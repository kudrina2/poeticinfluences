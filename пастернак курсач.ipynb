{
 "cells": [
  {
   "cell_type": "code",
   "execution_count": 1,
   "metadata": {},
   "outputs": [],
   "source": [
    "import nltk\n",
    "from nltk.tokenize import word_tokenize\n",
    "from nltk.tokenize import sent_tokenize"
   ]
  },
  {
   "cell_type": "code",
   "execution_count": 2,
   "metadata": {},
   "outputs": [],
   "source": [
    "from pymorphy2 import MorphAnalyzer\n",
    "morph = MorphAnalyzer()"
   ]
  },
  {
   "cell_type": "code",
   "execution_count": 3,
   "metadata": {},
   "outputs": [],
   "source": [
    "with open('pasternak.txt', 'r', encoding='utf-8') as f:\n",
    "    text = f.read()"
   ]
  },
  {
   "cell_type": "code",
   "execution_count": 4,
   "metadata": {},
   "outputs": [],
   "source": [
    "words = [w.lower() for w in word_tokenize(text) if w.isalpha()]"
   ]
  },
  {
   "cell_type": "code",
   "execution_count": 5,
   "metadata": {},
   "outputs": [],
   "source": [
    "lemmas = []\n",
    "for word in words:\n",
    "        lemmas.append(morph.parse(word)[0].normal_form)"
   ]
  },
  {
   "cell_type": "code",
   "execution_count": 6,
   "metadata": {},
   "outputs": [],
   "source": [
    "from collections import Counter\n",
    "ipm = Counter(lemmas)"
   ]
  },
  {
   "cell_type": "code",
   "execution_count": 7,
   "metadata": {},
   "outputs": [
    {
     "data": {
      "text/plain": [
       "[('и', 4247),\n",
       " ('в', 2986),\n",
       " ('как', 1493),\n",
       " ('на', 1243),\n",
       " ('с', 1175),\n",
       " ('не', 1092),\n",
       " ('я', 978),\n",
       " ('он', 788),\n",
       " ('весь', 684),\n",
       " ('что', 525),\n",
       " ('быть', 487),\n",
       " ('по', 474),\n",
       " ('ты', 474),\n",
       " ('за', 466),\n",
       " ('к', 465),\n",
       " ('они', 430),\n",
       " ('из', 376),\n",
       " ('но', 369),\n",
       " ('о', 367),\n",
       " ('она', 320),\n",
       " ('от', 302),\n",
       " ('а', 297),\n",
       " ('мы', 293),\n",
       " ('этот', 282),\n",
       " ('это', 274),\n",
       " ('тот', 272),\n",
       " ('день', 270),\n",
       " ('у', 251),\n",
       " ('под', 216),\n",
       " ('ночь', 214)]"
      ]
     },
     "execution_count": 7,
     "metadata": {},
     "output_type": "execute_result"
    }
   ],
   "source": [
    "ipm.most_common(30)"
   ]
  },
  {
   "cell_type": "code",
   "execution_count": 8,
   "metadata": {},
   "outputs": [],
   "source": [
    "for key in ipm:\n",
    "    ipm[key] = ((int(ipm[key]))/int(len(lemmas)))*1000000"
   ]
  },
  {
   "cell_type": "code",
   "execution_count": 9,
   "metadata": {},
   "outputs": [
    {
     "data": {
      "text/plain": [
       "[('и', 55498.20320156811),\n",
       " ('в', 39019.928128062726),\n",
       " ('как', 19509.964064031363),\n",
       " ('на', 16243.057824240444),\n",
       " ('с', 15354.459327017315),\n",
       " ('не', 14269.84645540673),\n",
       " ('я', 12780.13721006207),\n",
       " ('он', 10297.288467820972),\n",
       " ('весь', 8938.25547206795),\n",
       " ('что', 6860.503103560927),\n",
       " ('быть', 6363.933355112708),\n",
       " ('по', 6194.054230643581),\n",
       " ('ты', 6194.054230643581),\n",
       " ('за', 6089.513230970271),\n",
       " ('к', 6076.445606011107),\n",
       " ('они', 5619.078732440379),\n",
       " ('из', 4913.426984645541),\n",
       " ('но', 4821.953609931395),\n",
       " ('о', 4795.818360013068),\n",
       " ('она', 4181.639986932375),\n",
       " ('от', 3946.4227376674285),\n",
       " ('а', 3881.0846128716107),\n",
       " ('мы', 3828.814113034956),\n",
       " ('этот', 3685.0702384841557),\n",
       " ('это', 3580.529238810846),\n",
       " ('тот', 3554.393988892519),\n",
       " ('день', 3528.2587389741916),\n",
       " ('у', 3279.9738647500817),\n",
       " ('под', 2822.606991179353),\n",
       " ('ночь', 2796.4717412610257)]"
      ]
     },
     "execution_count": 9,
     "metadata": {},
     "output_type": "execute_result"
    }
   ],
   "source": [
    "ipm.most_common(30)"
   ]
  },
  {
   "cell_type": "code",
   "execution_count": 10,
   "metadata": {},
   "outputs": [],
   "source": [
    "from nltk.corpus import stopwords\n",
    "sw = stopwords.words('russian')\n",
    "filtered = [w for w in words if w not in sw]\n",
    "lemmas_2 = []\n",
    "for word in filtered:\n",
    "        lemmas_2.append(morph.parse(word)[0].normal_form)"
   ]
  },
  {
   "cell_type": "code",
   "execution_count": 11,
   "metadata": {},
   "outputs": [
    {
     "data": {
      "text/plain": [
       "[('весь', 298),\n",
       " ('день', 270),\n",
       " ('это', 230),\n",
       " ('ночь', 214),\n",
       " ('тот', 152),\n",
       " ('небо', 148),\n",
       " ('снег', 146),\n",
       " ('твой', 146),\n",
       " ('один', 142),\n",
       " ('свой', 142),\n",
       " ('идти', 139),\n",
       " ('земля', 136),\n",
       " ('жизнь', 123),\n",
       " ('глаз', 114),\n",
       " ('рука', 110),\n",
       " ('ветер', 107),\n",
       " ('год', 106),\n",
       " ('окно', 104),\n",
       " ('дом', 104),\n",
       " ('город', 100),\n",
       " ('сон', 100),\n",
       " ('стать', 98),\n",
       " ('мой', 95),\n",
       " ('спать', 89),\n",
       " ('свет', 88),\n",
       " ('время', 86),\n",
       " ('дерево', 85),\n",
       " ('ты', 84),\n",
       " ('солнце', 84),\n",
       " ('чёрный', 83)]"
      ]
     },
     "execution_count": 11,
     "metadata": {},
     "output_type": "execute_result"
    }
   ],
   "source": [
    "ipm_2 = Counter(lemmas_2)\n",
    "ipm_2.most_common(30)"
   ]
  },
  {
   "cell_type": "code",
   "execution_count": 12,
   "metadata": {},
   "outputs": [],
   "source": [
    "for key in ipm_2:\n",
    "    ipm_2[key] = ((int(ipm_2[key]))/int(len(lemmas_2)))*1000000"
   ]
  },
  {
   "cell_type": "code",
   "execution_count": 13,
   "metadata": {},
   "outputs": [
    {
     "data": {
      "text/plain": [
       "[('весь', 5830.903790087464),\n",
       " ('день', 5283.033635314145),\n",
       " ('это', 4500.3619856379755),\n",
       " ('ночь', 4187.293325767508),\n",
       " ('тот', 2974.1522687694446),\n",
       " ('небо', 2895.8851038018274),\n",
       " ('снег', 2856.751521318019),\n",
       " ('твой', 2856.751521318019),\n",
       " ('один', 2778.4843563504023),\n",
       " ('свой', 2778.4843563504023),\n",
       " ('идти', 2719.7839826246895),\n",
       " ('земля', 2661.0836088989768),\n",
       " ('жизнь', 2406.7153227542217),\n",
       " ('глаз', 2230.6142015770833),\n",
       " ('рука', 2152.3470366094666),\n",
       " ('ветер', 2093.646662883754),\n",
       " ('год', 2074.0798716418494),\n",
       " ('окно', 2034.946289158041),\n",
       " ('дом', 2034.946289158041),\n",
       " ('город', 1956.6791241904239),\n",
       " ('сон', 1956.6791241904239),\n",
       " ('стать', 1917.5455417066155),\n",
       " ('мой', 1858.845167980903),\n",
       " ('спать', 1741.4444205294774),\n",
       " ('свет', 1721.8776292875732),\n",
       " ('время', 1682.7440468037646),\n",
       " ('дерево', 1663.1772555618604),\n",
       " ('ты', 1643.6104643199562),\n",
       " ('солнце', 1643.6104643199562),\n",
       " ('чёрный', 1624.043673078052)]"
      ]
     },
     "execution_count": 13,
     "metadata": {},
     "output_type": "execute_result"
    }
   ],
   "source": [
    "ipm_2.most_common(30)"
   ]
  },
  {
   "cell_type": "code",
   "execution_count": 14,
   "metadata": {},
   "outputs": [
    {
     "data": {
      "text/plain": [
       "[(('и', 'в'), 129),\n",
       " (('как', 'в'), 78),\n",
       " (('и', 'не'), 67),\n",
       " (('в', 'тот'), 57),\n",
       " (('я', 'не'), 53),\n",
       " (('и', 'с'), 51),\n",
       " (('и', 'на'), 51),\n",
       " (('и', 'как'), 48),\n",
       " (('и', 'вот'), 46),\n",
       " (('и', 'весь'), 46),\n",
       " (('тот', 'же'), 42),\n",
       " (('весь', 'в'), 36),\n",
       " (('и', 'я'), 36),\n",
       " (('в', 'весь'), 36),\n",
       " (('он', 'в'), 35),\n",
       " (('что', 'в'), 34),\n",
       " (('я', 'в'), 34),\n",
       " (('в', 'они'), 33),\n",
       " (('что', 'я'), 29),\n",
       " (('как', 'на'), 29),\n",
       " (('я', 'с'), 29),\n",
       " (('не', 'в'), 28),\n",
       " (('тот', 'что'), 28),\n",
       " (('в', 'этот'), 28),\n",
       " (('а', 'в'), 26),\n",
       " (('как', 'будто'), 26),\n",
       " (('на', 'свет'), 25),\n",
       " (('в', 'окно'), 24),\n",
       " (('и', 'ты'), 23),\n",
       " (('как', 'с'), 23)]"
      ]
     },
     "execution_count": 14,
     "metadata": {},
     "output_type": "execute_result"
    }
   ],
   "source": [
    "from nltk import ngrams\n",
    "for_ngrams = []\n",
    "for word in lemmas:\n",
    "    for_ngrams.append(word)\n",
    "n = 2\n",
    "bigrams = ngrams(for_ngrams, n)\n",
    "\n",
    "Counter(bigrams).most_common(30)"
   ]
  },
  {
   "cell_type": "code",
   "execution_count": 15,
   "metadata": {},
   "outputs": [
    {
     "data": {
      "text/plain": [
       "[(('NOUN', 'NOUN'), 6799),\n",
       " (('PREP', 'NOUN'), 6676),\n",
       " (('NOUN', 'CONJ'), 4616),\n",
       " (('ADJF', 'NOUN'), 4330),\n",
       " (('NOUN', 'PREP'), 4115),\n",
       " (('NOUN', 'VERB'), 3879),\n",
       " (('CONJ', 'NOUN'), 3111),\n",
       " (('VERB', 'NOUN'), 2865),\n",
       " (('NOUN', 'ADJF'), 2788),\n",
       " (('VERB', 'PREP'), 1719),\n",
       " (('PREP', 'ADJF'), 1445),\n",
       " (('NOUN', 'NPRO'), 1291),\n",
       " (('VERB', 'CONJ'), 1168),\n",
       " (('NPRO', 'VERB'), 1128),\n",
       " (('NOUN', 'ADVB'), 1085)]"
      ]
     },
     "execution_count": 15,
     "metadata": {},
     "output_type": "execute_result"
    }
   ],
   "source": [
    "from nltk import ngrams\n",
    "for_ngrams = []\n",
    "for word in words:\n",
    "    for_ngrams.append(morph.parse(word)[0].tag.POS)\n",
    "n = 2\n",
    "bigrams = ngrams(for_ngrams, n)\n",
    "\n",
    "Counter(bigrams).most_common(15)"
   ]
  },
  {
   "cell_type": "code",
   "execution_count": 16,
   "metadata": {},
   "outputs": [
    {
     "data": {
      "text/plain": [
       "[(('NOUN', 'PREP', 'NOUN'), 2967),\n",
       " (('NOUN', 'CONJ', 'NOUN'), 2037),\n",
       " (('PREP', 'NOUN', 'NOUN'), 1742),\n",
       " (('NOUN', 'NOUN', 'NOUN'), 1702),\n",
       " (('NOUN', 'ADJF', 'NOUN'), 1547),\n",
       " (('NOUN', 'VERB', 'NOUN'), 1380),\n",
       " (('VERB', 'PREP', 'NOUN'), 1284),\n",
       " (('NOUN', 'NOUN', 'CONJ'), 1176),\n",
       " (('NOUN', 'NOUN', 'VERB'), 1058),\n",
       " (('PREP', 'NOUN', 'PREP'), 1048)]"
      ]
     },
     "execution_count": 16,
     "metadata": {},
     "output_type": "execute_result"
    }
   ],
   "source": [
    "for_ngrams_2 = []\n",
    "for word in words:\n",
    "    for_ngrams_2.append(morph.parse(word)[0].tag.POS)\n",
    "n = 3\n",
    "trigrams = ngrams(for_ngrams, n)\n",
    "\n",
    "Counter(trigrams).most_common(10)"
   ]
  },
  {
   "cell_type": "code",
   "execution_count": 17,
   "metadata": {},
   "outputs": [],
   "source": [
    "import string\n",
    "with open('pasternak.txt', 'r', encoding='utf-8') as f:\n",
    "    rhymes = f.readlines()\n",
    "Partof = []\n",
    "for line in rhymes:\n",
    "    line = line.translate(str.maketrans('','',string.punctuation))\n",
    "    ends = line.split()\n",
    "    Partof.append(ends)"
   ]
  },
  {
   "cell_type": "code",
   "execution_count": 18,
   "metadata": {},
   "outputs": [],
   "source": [
    "prt = []\n",
    "for line in Partof:\n",
    "    if line != []:\n",
    "        if line[-1].isalpha():\n",
    "            prt.append(morph.parse(line[-1])[0].tag.POS)"
   ]
  },
  {
   "cell_type": "code",
   "execution_count": 19,
   "metadata": {},
   "outputs": [
    {
     "data": {
      "text/plain": [
       "[('NOUN', 11311), ('VERB', 1530), ('ADJF', 979), ('ADVB', 788), ('ADJS', 354)]"
      ]
     },
     "execution_count": 19,
     "metadata": {},
     "output_type": "execute_result"
    }
   ],
   "source": [
    "Counter(prt).most_common(5)"
   ]
  },
  {
   "cell_type": "code",
   "execution_count": null,
   "metadata": {},
   "outputs": [],
   "source": []
  }
 ],
 "metadata": {
  "kernelspec": {
   "display_name": "Python 3",
   "language": "python",
   "name": "python3"
  },
  "language_info": {
   "codemirror_mode": {
    "name": "ipython",
    "version": 3
   },
   "file_extension": ".py",
   "mimetype": "text/x-python",
   "name": "python",
   "nbconvert_exporter": "python",
   "pygments_lexer": "ipython3",
   "version": "3.7.3"
  }
 },
 "nbformat": 4,
 "nbformat_minor": 2
}

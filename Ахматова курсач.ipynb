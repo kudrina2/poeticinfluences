{
 "cells": [
  {
   "cell_type": "code",
   "execution_count": 1,
   "metadata": {},
   "outputs": [],
   "source": [
    "import nltk\n",
    "from nltk.tokenize import word_tokenize\n",
    "from nltk.tokenize import sent_tokenize"
   ]
  },
  {
   "cell_type": "code",
   "execution_count": 2,
   "metadata": {},
   "outputs": [],
   "source": [
    "from pymorphy2 import MorphAnalyzer\n",
    "morph = MorphAnalyzer()"
   ]
  },
  {
   "cell_type": "code",
   "execution_count": 3,
   "metadata": {},
   "outputs": [],
   "source": [
    "with open('ahmatova.txt', 'r', encoding='utf-8') as f:\n",
    "    text = f.read()"
   ]
  },
  {
   "cell_type": "code",
   "execution_count": 4,
   "metadata": {},
   "outputs": [],
   "source": [
    "words = [w.lower() for w in word_tokenize(text) if w.isalpha()]"
   ]
  },
  {
   "cell_type": "code",
   "execution_count": 5,
   "metadata": {},
   "outputs": [],
   "source": [
    "lemmas = []\n",
    "for word in words:\n",
    "        lemmas.append(morph.parse(word)[0].normal_form)"
   ]
  },
  {
   "cell_type": "code",
   "execution_count": 6,
   "metadata": {},
   "outputs": [],
   "source": [
    "from collections import Counter\n",
    "ipm = Counter(lemmas)"
   ]
  },
  {
   "cell_type": "code",
   "execution_count": 7,
   "metadata": {},
   "outputs": [
    {
     "data": {
      "text/plain": [
       "[('и', 2898),\n",
       " ('я', 1974),\n",
       " ('в', 1544),\n",
       " ('не', 1342),\n",
       " ('ты', 815),\n",
       " ('как', 762),\n",
       " ('на', 721),\n",
       " ('что', 601),\n",
       " ('с', 598),\n",
       " ('мой', 516),\n",
       " ('весь', 494),\n",
       " ('а', 484),\n",
       " ('быть', 467),\n",
       " ('он', 440),\n",
       " ('но', 343),\n",
       " ('мы', 333),\n",
       " ('тот', 305),\n",
       " ('о', 276),\n",
       " ('за', 251),\n",
       " ('твой', 248),\n",
       " ('это', 245),\n",
       " ('она', 243),\n",
       " ('к', 227),\n",
       " ('так', 227),\n",
       " ('этот', 207),\n",
       " ('у', 198),\n",
       " ('из', 194),\n",
       " ('ни', 188),\n",
       " ('от', 187),\n",
       " ('один', 186)]"
      ]
     },
     "execution_count": 7,
     "metadata": {},
     "output_type": "execute_result"
    }
   ],
   "source": [
    "ipm.most_common(30)"
   ]
  },
  {
   "cell_type": "code",
   "execution_count": 8,
   "metadata": {},
   "outputs": [],
   "source": [
    "for key in ipm:\n",
    "    ipm[key] = ((int(ipm[key]))/int(len(lemmas)))*1000000"
   ]
  },
  {
   "cell_type": "code",
   "execution_count": 9,
   "metadata": {},
   "outputs": [
    {
     "data": {
      "text/plain": [
       "[('и', 52608.64829539265),\n",
       " ('я', 35834.87637512254),\n",
       " ('в', 28028.90026504012),\n",
       " ('не', 24361.9068365828),\n",
       " ('ты', 14795.047743528301),\n",
       " ('как', 13832.915804378608),\n",
       " ('на', 13088.625058998656),\n",
       " ('что', 10910.213121301238),\n",
       " ('с', 10855.752822858803),\n",
       " ('мой', 9367.171332098898),\n",
       " ('весь', 8967.795810187707),\n",
       " ('а', 8786.261482046255),\n",
       " ('быть', 8477.653124205788),\n",
       " ('он', 7987.510438223869),\n",
       " ('но', 6226.627455251788),\n",
       " ('мы', 6045.093127110336),\n",
       " ('тот', 5536.797008314273),\n",
       " ('о', 5010.347456704063),\n",
       " ('за', 4556.511636350434),\n",
       " ('твой', 4502.0513379079985),\n",
       " ('это', 4447.591039465563),\n",
       " ('она', 4411.284173837273),\n",
       " ('к', 4120.82924881095),\n",
       " ('так', 4120.82924881095),\n",
       " ('этот', 3757.7605925280473),\n",
       " ('у', 3594.379697200741),\n",
       " ('из', 3521.76596594416),\n",
       " ('ни', 3412.845369059289),\n",
       " ('от', 3394.691936245144),\n",
       " ('один', 3376.538503430999)]"
      ]
     },
     "execution_count": 9,
     "metadata": {},
     "output_type": "execute_result"
    }
   ],
   "source": [
    "ipm.most_common(30)"
   ]
  },
  {
   "cell_type": "code",
   "execution_count": 10,
   "metadata": {},
   "outputs": [],
   "source": [
    "from nltk.corpus import stopwords\n",
    "sw = stopwords.words('russian')\n",
    "filtered = [w for w in words if w not in sw]\n",
    "lemmas_2 = []\n",
    "for word in filtered:\n",
    "        lemmas_2.append(morph.parse(word)[0].normal_form)"
   ]
  },
  {
   "cell_type": "code",
   "execution_count": 11,
   "metadata": {},
   "outputs": [
    {
     "data": {
      "text/plain": [
       "[('мой', 309),\n",
       " ('твой', 248),\n",
       " ('это', 209),\n",
       " ('ты', 184),\n",
       " ('знать', 161),\n",
       " ('один', 156),\n",
       " ('стать', 152),\n",
       " ('тот', 148),\n",
       " ('рука', 141),\n",
       " ('день', 133),\n",
       " ('дом', 131),\n",
       " ('голос', 130),\n",
       " ('глаз', 129),\n",
       " ('год', 128),\n",
       " ('свой', 125),\n",
       " ('я', 124),\n",
       " ('чёрный', 122),\n",
       " ('друг', 113),\n",
       " ('наш', 111),\n",
       " ('сердце', 109),\n",
       " ('слово', 108),\n",
       " ('ночь', 108),\n",
       " ('идти', 107),\n",
       " ('весь', 97),\n",
       " ('ветер', 97),\n",
       " ('мы', 96),\n",
       " ('земля', 95),\n",
       " ('мочь', 94),\n",
       " ('последний', 94),\n",
       " ('небо', 93)]"
      ]
     },
     "execution_count": 11,
     "metadata": {},
     "output_type": "execute_result"
    }
   ],
   "source": [
    "ipm_2 = Counter(lemmas_2)\n",
    "ipm_2.most_common(30)"
   ]
  },
  {
   "cell_type": "code",
   "execution_count": 12,
   "metadata": {},
   "outputs": [],
   "source": [
    "for key in ipm_2:\n",
    "    ipm_2[key] = ((int(ipm_2[key]))/int(len(lemmas_2)))*1000000"
   ]
  },
  {
   "cell_type": "code",
   "execution_count": 13,
   "metadata": {},
   "outputs": [
    {
     "data": {
      "text/plain": [
       "[('мой', 8862.756345905636),\n",
       " ('твой', 7113.150724221999),\n",
       " ('это', 5994.550408719346),\n",
       " ('ты', 5277.498924422774),\n",
       " ('знать', 4617.8115588699275),\n",
       " ('один', 4474.401262010612),\n",
       " ('стать', 4359.673024523161),\n",
       " ('тот', 4244.944787035709),\n",
       " ('рука', 4044.170371432669),\n",
       " ('день', 3814.7138964577657),\n",
       " ('дом', 3757.34977771404),\n",
       " ('голос', 3728.667718342177),\n",
       " ('глаз', 3699.985658970314),\n",
       " ('год', 3671.303599598451),\n",
       " ('свой', 3585.257421482863),\n",
       " ('я', 3556.5753621109993),\n",
       " ('чёрный', 3499.2112433672737),\n",
       " ('друг', 3241.0727090205073),\n",
       " ('наш', 3183.7085902767817),\n",
       " ('сердце', 3126.344471533056),\n",
       " ('слово', 3097.6624121611935),\n",
       " ('ночь', 3097.6624121611935),\n",
       " ('идти', 3068.98035278933),\n",
       " ('весь', 2782.1597590707015),\n",
       " ('ветер', 2782.1597590707015),\n",
       " ('мы', 2753.477699698838),\n",
       " ('земля', 2724.7956403269754),\n",
       " ('мочь', 2696.1135809551124),\n",
       " ('последний', 2696.1135809551124),\n",
       " ('небо', 2667.43152158325)]"
      ]
     },
     "execution_count": 13,
     "metadata": {},
     "output_type": "execute_result"
    }
   ],
   "source": [
    "ipm_2.most_common(30)"
   ]
  },
  {
   "cell_type": "code",
   "execution_count": 14,
   "metadata": {},
   "outputs": [
    {
     "data": {
      "text/plain": [
       "[(('я', 'не'), 147),\n",
       " (('и', 'в'), 109),\n",
       " (('и', 'не'), 79),\n",
       " (('с', 'я'), 75),\n",
       " (('и', 'я'), 72),\n",
       " (('не', 'знать'), 60),\n",
       " (('с', 'ты'), 59),\n",
       " (('не', 'мочь'), 55),\n",
       " (('я', 'в'), 54),\n",
       " (('как', 'будто'), 51),\n",
       " (('что', 'я'), 47),\n",
       " (('тот', 'что'), 47),\n",
       " (('и', 'весь'), 46),\n",
       " (('а', 'я'), 45),\n",
       " (('ты', 'я'), 45),\n",
       " (('ты', 'не'), 45),\n",
       " (('то', 'что'), 42),\n",
       " (('тот', 'кто'), 42),\n",
       " (('и', 'с'), 41),\n",
       " (('к', 'я'), 40),\n",
       " (('в', 'тот'), 38),\n",
       " (('не', 'быть'), 37),\n",
       " (('я', 'и'), 36),\n",
       " (('и', 'на'), 34),\n",
       " (('что', 'ты'), 34),\n",
       " (('как', 'в'), 34),\n",
       " (('и', 'ты'), 32),\n",
       " (('я', 'как'), 32),\n",
       " (('я', 'быть'), 32),\n",
       " (('а', 'в'), 31)]"
      ]
     },
     "execution_count": 14,
     "metadata": {},
     "output_type": "execute_result"
    }
   ],
   "source": [
    "from nltk import ngrams\n",
    "for_ngrams = []\n",
    "for word in lemmas:\n",
    "    for_ngrams.append(word)\n",
    "n = 2\n",
    "bigrams = ngrams(for_ngrams, n)\n",
    "\n",
    "Counter(bigrams).most_common(30)"
   ]
  },
  {
   "cell_type": "code",
   "execution_count": 15,
   "metadata": {},
   "outputs": [
    {
     "data": {
      "text/plain": [
       "[(('ADJF', 'NOUN'), 3991),\n",
       " (('PREP', 'NOUN'), 2786),\n",
       " (('NOUN', 'NOUN'), 2646),\n",
       " (('NOUN', 'CONJ'), 2639),\n",
       " (('NOUN', 'ADJF'), 2486),\n",
       " (('NOUN', 'VERB'), 2005),\n",
       " (('NOUN', 'PREP'), 1685),\n",
       " (('VERB', 'NOUN'), 1489),\n",
       " (('CONJ', 'NOUN'), 1464),\n",
       " (('PREP', 'ADJF'), 1349),\n",
       " (('NPRO', 'VERB'), 1150),\n",
       " (('VERB', 'CONJ'), 1117),\n",
       " (('VERB', 'PREP'), 1076),\n",
       " (('NOUN', 'NPRO'), 928),\n",
       " (('CONJ', 'ADJF'), 911)]"
      ]
     },
     "execution_count": 15,
     "metadata": {},
     "output_type": "execute_result"
    }
   ],
   "source": [
    "from nltk import ngrams\n",
    "for_ngrams = []\n",
    "for word in words:\n",
    "    for_ngrams.append(morph.parse(word)[0].tag.POS)\n",
    "n = 2\n",
    "bigrams = ngrams(for_ngrams, n)\n",
    "\n",
    "Counter(bigrams).most_common(15)"
   ]
  },
  {
   "cell_type": "code",
   "execution_count": 16,
   "metadata": {},
   "outputs": [
    {
     "data": {
      "text/plain": [
       "[(('PREP', 'ADJF', 'NOUN'), 943),\n",
       " (('NOUN', 'ADJF', 'NOUN'), 940),\n",
       " (('NOUN', 'PREP', 'NOUN'), 905),\n",
       " (('ADJF', 'NOUN', 'CONJ'), 831),\n",
       " (('NOUN', 'CONJ', 'NOUN'), 805),\n",
       " (('ADJF', 'NOUN', 'NOUN'), 606),\n",
       " (('VERB', 'PREP', 'NOUN'), 596),\n",
       " (('PREP', 'NOUN', 'NOUN'), 592),\n",
       " (('ADJF', 'NOUN', 'VERB'), 556),\n",
       " (('ADJF', 'NOUN', 'ADJF'), 555)]"
      ]
     },
     "execution_count": 16,
     "metadata": {},
     "output_type": "execute_result"
    }
   ],
   "source": [
    "for_ngrams_2 = []\n",
    "for word in words:\n",
    "    for_ngrams_2.append(morph.parse(word)[0].tag.POS)\n",
    "n = 3\n",
    "trigrams = ngrams(for_ngrams, n)\n",
    "\n",
    "Counter(trigrams).most_common(10)"
   ]
  },
  {
   "cell_type": "code",
   "execution_count": 18,
   "metadata": {},
   "outputs": [],
   "source": [
    "import string\n",
    "with open('ahmatova.txt', 'r', encoding='utf-8') as f:\n",
    "    rhymes = f.readlines()\n",
    "Partof = []\n",
    "for line in rhymes:\n",
    "    line = line.translate(str.maketrans('','',string.punctuation))\n",
    "    ends = line.split()\n",
    "    Partof.append(ends)"
   ]
  },
  {
   "cell_type": "code",
   "execution_count": 19,
   "metadata": {},
   "outputs": [],
   "source": [
    "prt = []\n",
    "for line in Partof:\n",
    "    if line != []:\n",
    "        if line[-1].isalpha():\n",
    "            prt.append(morph.parse(line[-1])[0].tag.POS)"
   ]
  },
  {
   "cell_type": "code",
   "execution_count": 20,
   "metadata": {},
   "outputs": [
    {
     "data": {
      "text/plain": [
       "[('NOUN', 6128), ('VERB', 1783), ('ADJF', 1100), ('ADVB', 571), ('INFN', 354)]"
      ]
     },
     "execution_count": 20,
     "metadata": {},
     "output_type": "execute_result"
    }
   ],
   "source": [
    "Counter(prt).most_common(5)"
   ]
  },
  {
   "cell_type": "code",
   "execution_count": null,
   "metadata": {},
   "outputs": [],
   "source": []
  }
 ],
 "metadata": {
  "kernelspec": {
   "display_name": "Python 3",
   "language": "python",
   "name": "python3"
  },
  "language_info": {
   "codemirror_mode": {
    "name": "ipython",
    "version": 3
   },
   "file_extension": ".py",
   "mimetype": "text/x-python",
   "name": "python",
   "nbconvert_exporter": "python",
   "pygments_lexer": "ipython3",
   "version": "3.7.3"
  }
 },
 "nbformat": 4,
 "nbformat_minor": 2
}

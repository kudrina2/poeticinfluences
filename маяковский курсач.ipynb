{
 "cells": [
  {
   "cell_type": "code",
   "execution_count": 1,
   "metadata": {},
   "outputs": [],
   "source": [
    "import nltk\n",
    "from nltk.tokenize import word_tokenize\n",
    "from nltk.tokenize import sent_tokenize"
   ]
  },
  {
   "cell_type": "code",
   "execution_count": 2,
   "metadata": {},
   "outputs": [],
   "source": [
    "from pymorphy2 import MorphAnalyzer\n",
    "morph = MorphAnalyzer()"
   ]
  },
  {
   "cell_type": "code",
   "execution_count": 3,
   "metadata": {},
   "outputs": [],
   "source": [
    "with open('mayakovsky.txt', 'r', encoding='utf-8') as f:\n",
    "    text = f.read()"
   ]
  },
  {
   "cell_type": "code",
   "execution_count": 4,
   "metadata": {},
   "outputs": [],
   "source": [
    "words = [w.lower() for w in word_tokenize(text) if w.isalpha()]"
   ]
  },
  {
   "cell_type": "code",
   "execution_count": 5,
   "metadata": {},
   "outputs": [],
   "source": [
    "lemmas = []\n",
    "for word in words:\n",
    "        lemmas.append(morph.parse(word)[0].normal_form)"
   ]
  },
  {
   "cell_type": "code",
   "execution_count": 6,
   "metadata": {},
   "outputs": [],
   "source": [
    "from collections import Counter\n",
    "ipm = Counter(lemmas)"
   ]
  },
  {
   "cell_type": "code",
   "execution_count": 7,
   "metadata": {},
   "outputs": [
    {
     "data": {
      "text/plain": [
       "[('и', 4808),\n",
       " ('в', 3993),\n",
       " ('не', 2234),\n",
       " ('на', 1999),\n",
       " ('с', 1367),\n",
       " ('я', 1326),\n",
       " ('а', 1143),\n",
       " ('мы', 902),\n",
       " ('что', 879),\n",
       " ('как', 813),\n",
       " ('весь', 742),\n",
       " ('он', 715),\n",
       " ('за', 649),\n",
       " ('у', 647),\n",
       " ('по', 642),\n",
       " ('быть', 623),\n",
       " ('это', 618),\n",
       " ('вы', 607),\n",
       " ('из', 607),\n",
       " ('к', 602),\n",
       " ('от', 570),\n",
       " ('но', 423),\n",
       " ('чтоб', 402),\n",
       " ('этот', 397),\n",
       " ('ни', 391),\n",
       " ('один', 385),\n",
       " ('о', 368),\n",
       " ('они', 346),\n",
       " ('под', 341),\n",
       " ('ты', 340)]"
      ]
     },
     "execution_count": 7,
     "metadata": {},
     "output_type": "execute_result"
    }
   ],
   "source": [
    "ipm.most_common(30)"
   ]
  },
  {
   "cell_type": "code",
   "execution_count": 8,
   "metadata": {},
   "outputs": [],
   "source": [
    "for key in ipm:\n",
    "    ipm[key] = ((int(ipm[key]))/int(len(lemmas)))*1000000"
   ]
  },
  {
   "cell_type": "code",
   "execution_count": 9,
   "metadata": {},
   "outputs": [
    {
     "data": {
      "text/plain": [
       "[('и', 40253.17303506246),\n",
       " ('в', 33429.891832155656),\n",
       " ('не', 18703.325407722445),\n",
       " ('на', 16735.876226516193),\n",
       " ('с', 11444.693747697667),\n",
       " ('я', 11101.43665650849),\n",
       " ('а', 9569.337932420212),\n",
       " ('мы', 7551.656006161883),\n",
       " ('что', 7359.0971501289305),\n",
       " ('как', 6806.53695455611),\n",
       " ('весь', 6212.11613810656),\n",
       " ('он', 5986.068785372225),\n",
       " ('за', 5433.508589799404),\n",
       " ('у', 5416.764341448712),\n",
       " ('по', 5374.903720571983),\n",
       " ('быть', 5215.833361240414),\n",
       " ('это', 5173.972740363685),\n",
       " ('вы', 5081.879374434881),\n",
       " ('из', 5081.879374434881),\n",
       " ('к', 5040.018753558153),\n",
       " ('от', 4772.110779947088),\n",
       " ('но', 3541.40852617126),\n",
       " ('чтоб', 3365.593918488999),\n",
       " ('этот', 3323.7332976122702),\n",
       " ('ни', 3273.5005525601955),\n",
       " ('один', 3223.2678075081208),\n",
       " ('о', 3080.9416965272426),\n",
       " ('они', 2896.754964669636),\n",
       " ('под', 2854.894343792907),\n",
       " ('ты', 2846.5222196175614)]"
      ]
     },
     "execution_count": 9,
     "metadata": {},
     "output_type": "execute_result"
    }
   ],
   "source": [
    "ipm.most_common(30)"
   ]
  },
  {
   "cell_type": "code",
   "execution_count": 10,
   "metadata": {},
   "outputs": [],
   "source": [
    "from nltk.corpus import stopwords\n",
    "sw = stopwords.words('russian')\n",
    "filtered = [w for w in words if w not in sw]\n",
    "lemmas_2 = []\n",
    "for word in filtered:\n",
    "        lemmas_2.append(morph.parse(word)[0].normal_form)"
   ]
  },
  {
   "cell_type": "code",
   "execution_count": 11,
   "metadata": {},
   "outputs": [
    {
     "data": {
      "text/plain": [
       "[('это', 524),\n",
       " ('идти', 308),\n",
       " ('наш', 298),\n",
       " ('день', 294),\n",
       " ('один', 293),\n",
       " ('весь', 284),\n",
       " ('рабочий', 279),\n",
       " ('глаз', 269),\n",
       " ('товарищ', 263),\n",
       " ('мы', 237),\n",
       " ('год', 230),\n",
       " ('рука', 218),\n",
       " ('человек', 217),\n",
       " ('слово', 216),\n",
       " ('каждый', 203),\n",
       " ('свой', 200),\n",
       " ('такой', 198),\n",
       " ('небо', 192),\n",
       " ('земля', 185),\n",
       " ('мир', 166),\n",
       " ('дом', 164),\n",
       " ('знать', 160),\n",
       " ('стать', 159),\n",
       " ('дело', 158),\n",
       " ('сердце', 153),\n",
       " ('мой', 148),\n",
       " ('б', 146),\n",
       " ('быть', 145),\n",
       " ('смотреть', 142),\n",
       " ('жизнь', 138)]"
      ]
     },
     "execution_count": 11,
     "metadata": {},
     "output_type": "execute_result"
    }
   ],
   "source": [
    "ipm_2 = Counter(lemmas_2)\n",
    "ipm_2.most_common(30)"
   ]
  },
  {
   "cell_type": "code",
   "execution_count": 12,
   "metadata": {},
   "outputs": [],
   "source": [
    "for key in ipm_2:\n",
    "    ipm_2[key] = ((int(ipm_2[key]))/int(len(lemmas_2)))*1000000"
   ]
  },
  {
   "cell_type": "code",
   "execution_count": 13,
   "metadata": {},
   "outputs": [
    {
     "data": {
      "text/plain": [
       "[('это', 6309.756038821858),\n",
       " ('идти', 3708.78790068155),\n",
       " ('наш', 3588.37270910098),\n",
       " ('день', 3540.2066324687526),\n",
       " ('один', 3528.1651133106952),\n",
       " ('весь', 3419.7914408881825),\n",
       " ('рабочий', 3359.5838450978977),\n",
       " ('глаз', 3239.1686535173276),\n",
       " ('товарищ', 3166.9195385689854),\n",
       " ('мы', 2853.8400404595045),\n",
       " ('год', 2769.5494063531055),\n",
       " ('рука', 2625.0511764564217),\n",
       " ('человек', 2613.009657298365),\n",
       " ('слово', 2600.968138140308),\n",
       " ('каждый', 2444.428389085567),\n",
       " ('свой', 2408.303831611396),\n",
       " ('такой', 2384.220793295282),\n",
       " ('небо', 2311.9716783469403),\n",
       " ('земля', 2227.6810442405413),\n",
       " ('мир', 1998.8921802374587),\n",
       " ('дом', 1974.8091419213447),\n",
       " ('знать', 1926.6430652891167),\n",
       " ('стать', 1914.6015461310599),\n",
       " ('дело', 1902.560026973003),\n",
       " ('сердце', 1842.352431182718),\n",
       " ('мой', 1782.144835392433),\n",
       " ('б', 1758.0617970763192),\n",
       " ('быть', 1746.0202779182623),\n",
       " ('смотреть', 1709.8957204440912),\n",
       " ('жизнь', 1661.7296438118633)]"
      ]
     },
     "execution_count": 13,
     "metadata": {},
     "output_type": "execute_result"
    }
   ],
   "source": [
    "ipm_2.most_common(30)"
   ]
  },
  {
   "cell_type": "code",
   "execution_count": 14,
   "metadata": {},
   "outputs": [
    {
     "data": {
      "text/plain": [
       "[(('и', 'в'), 173),\n",
       " (('и', 'не'), 92),\n",
       " (('не', 'быть'), 81),\n",
       " (('мы', 'не'), 67),\n",
       " (('у', 'мы'), 66),\n",
       " (('а', 'в'), 62),\n",
       " (('и', 'я'), 58),\n",
       " (('в', 'весь'), 55),\n",
       " (('я', 'не'), 55),\n",
       " (('как', 'будто'), 55),\n",
       " (('а', 'я'), 53),\n",
       " (('и', 'вот'), 50),\n",
       " (('и', 'снова'), 47),\n",
       " (('а', 'не'), 46),\n",
       " (('я', 'в'), 45),\n",
       " (('и', 'на'), 44),\n",
       " (('вы', 'не'), 43),\n",
       " (('что', 'ж'), 42),\n",
       " (('в', 'небо'), 42),\n",
       " (('тот', 'кто'), 42),\n",
       " (('то', 'что'), 41),\n",
       " (('и', 'то'), 41),\n",
       " (('в', 'один'), 40),\n",
       " (('не', 'в'), 39),\n",
       " (('я', 'и'), 38),\n",
       " (('не', 'мочь'), 38),\n",
       " (('и', 'с'), 38),\n",
       " (('что', 'вы'), 35),\n",
       " (('а', 'если'), 34),\n",
       " (('и', 'мы'), 34)]"
      ]
     },
     "execution_count": 14,
     "metadata": {},
     "output_type": "execute_result"
    }
   ],
   "source": [
    "from nltk import ngrams\n",
    "for_ngrams = []\n",
    "for word in lemmas:\n",
    "    for_ngrams.append(word)\n",
    "n = 2\n",
    "bigrams = ngrams(for_ngrams, n)\n",
    "\n",
    "Counter(bigrams).most_common(30)"
   ]
  },
  {
   "cell_type": "code",
   "execution_count": 15,
   "metadata": {},
   "outputs": [
    {
     "data": {
      "text/plain": [
       "[(('NOUN', 'NOUN'), 11112),\n",
       " (('PREP', 'NOUN'), 9069),\n",
       " (('NOUN', 'VERB'), 7276),\n",
       " (('ADJF', 'NOUN'), 6836),\n",
       " (('NOUN', 'PREP'), 5263),\n",
       " (('VERB', 'NOUN'), 5096),\n",
       " (('NOUN', 'CONJ'), 4805),\n",
       " (('NOUN', 'ADJF'), 4300),\n",
       " (('CONJ', 'NOUN'), 3151),\n",
       " (('VERB', 'PREP'), 2862),\n",
       " (('PREP', 'ADJF'), 2428),\n",
       " (('NOUN', 'PRCL'), 1863),\n",
       " (('VERB', 'CONJ'), 1727),\n",
       " (('NOUN', 'ADVB'), 1578),\n",
       " (('PRCL', 'VERB'), 1576)]"
      ]
     },
     "execution_count": 15,
     "metadata": {},
     "output_type": "execute_result"
    }
   ],
   "source": [
    "from nltk import ngrams\n",
    "for_ngrams = []\n",
    "for word in words:\n",
    "    for_ngrams.append(morph.parse(word)[0].tag.POS)\n",
    "n = 2\n",
    "bigrams = ngrams(for_ngrams, n)\n",
    "\n",
    "Counter(bigrams).most_common(15)"
   ]
  },
  {
   "cell_type": "code",
   "execution_count": 16,
   "metadata": {},
   "outputs": [
    {
     "data": {
      "text/plain": [
       "[(('NOUN', 'PREP', 'NOUN'), 3567),\n",
       " (('NOUN', 'NOUN', 'NOUN'), 3074),\n",
       " (('PREP', 'NOUN', 'NOUN'), 2665),\n",
       " (('NOUN', 'VERB', 'NOUN'), 2433),\n",
       " (('NOUN', 'ADJF', 'NOUN'), 2204),\n",
       " (('NOUN', 'NOUN', 'VERB'), 2146),\n",
       " (('VERB', 'PREP', 'NOUN'), 2092),\n",
       " (('NOUN', 'CONJ', 'NOUN'), 1858),\n",
       " (('PREP', 'ADJF', 'NOUN'), 1674),\n",
       " (('ADJF', 'NOUN', 'NOUN'), 1625)]"
      ]
     },
     "execution_count": 16,
     "metadata": {},
     "output_type": "execute_result"
    }
   ],
   "source": [
    "for_ngrams_2 = []\n",
    "for word in words:\n",
    "    for_ngrams_2.append(morph.parse(word)[0].tag.POS)\n",
    "n = 3\n",
    "trigrams = ngrams(for_ngrams, n)\n",
    "\n",
    "Counter(trigrams).most_common(10)"
   ]
  },
  {
   "cell_type": "code",
   "execution_count": 17,
   "metadata": {},
   "outputs": [],
   "source": [
    "import string\n",
    "with open('mayakovsky.txt', 'r', encoding='utf-8') as f:\n",
    "    rhymes = f.readlines()\n",
    "Partof = []\n",
    "for line in rhymes:\n",
    "    line = line.translate(str.maketrans('','',string.punctuation))\n",
    "    ends = line.split()\n",
    "    Partof.append(ends)"
   ]
  },
  {
   "cell_type": "code",
   "execution_count": 18,
   "metadata": {},
   "outputs": [],
   "source": [
    "prt = []\n",
    "for line in Partof:\n",
    "    if line != []:\n",
    "        if line[-1].isalpha():\n",
    "            prt.append(morph.parse(line[-1])[0].tag.POS)"
   ]
  },
  {
   "cell_type": "code",
   "execution_count": 19,
   "metadata": {},
   "outputs": [
    {
     "data": {
      "text/plain": [
       "[('NOUN', 14676),\n",
       " ('VERB', 2455),\n",
       " ('ADJF', 1748),\n",
       " ('ADVB', 1004),\n",
       " ('NPRO', 645)]"
      ]
     },
     "execution_count": 19,
     "metadata": {},
     "output_type": "execute_result"
    }
   ],
   "source": [
    "Counter(prt).most_common(5)"
   ]
  },
  {
   "cell_type": "code",
   "execution_count": null,
   "metadata": {},
   "outputs": [],
   "source": []
  }
 ],
 "metadata": {
  "kernelspec": {
   "display_name": "Python 3",
   "language": "python",
   "name": "python3"
  },
  "language_info": {
   "codemirror_mode": {
    "name": "ipython",
    "version": 3
   },
   "file_extension": ".py",
   "mimetype": "text/x-python",
   "name": "python",
   "nbconvert_exporter": "python",
   "pygments_lexer": "ipython3",
   "version": "3.7.3"
  }
 },
 "nbformat": 4,
 "nbformat_minor": 2
}

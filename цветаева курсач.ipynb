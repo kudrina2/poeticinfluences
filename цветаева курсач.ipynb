{
 "cells": [
  {
   "cell_type": "code",
   "execution_count": 1,
   "metadata": {},
   "outputs": [],
   "source": [
    "import nltk\n",
    "from nltk.tokenize import word_tokenize\n",
    "from nltk.tokenize import sent_tokenize"
   ]
  },
  {
   "cell_type": "code",
   "execution_count": 2,
   "metadata": {},
   "outputs": [],
   "source": [
    "from pymorphy2 import MorphAnalyzer\n",
    "morph = MorphAnalyzer()"
   ]
  },
  {
   "cell_type": "code",
   "execution_count": 3,
   "metadata": {},
   "outputs": [],
   "source": [
    "with open('tsvetayeva.txt', 'r', encoding='utf-8') as f:\n",
    "    text = f.read()"
   ]
  },
  {
   "cell_type": "code",
   "execution_count": 4,
   "metadata": {},
   "outputs": [],
   "source": [
    "words = [w.lower() for w in word_tokenize(text) if w.isalpha()]"
   ]
  },
  {
   "cell_type": "code",
   "execution_count": 5,
   "metadata": {},
   "outputs": [],
   "source": [
    "lemmas = []\n",
    "for word in words:\n",
    "        lemmas.append(morph.parse(word)[0].normal_form)"
   ]
  },
  {
   "cell_type": "code",
   "execution_count": 6,
   "metadata": {},
   "outputs": [],
   "source": [
    "from collections import Counter\n",
    "ipm = Counter(lemmas)"
   ]
  },
  {
   "cell_type": "code",
   "execution_count": 7,
   "metadata": {},
   "outputs": [
    {
     "data": {
      "text/plain": [
       "[('в', 4600),\n",
       " ('и', 4435),\n",
       " ('не', 3362),\n",
       " ('я', 2283),\n",
       " ('на', 1949),\n",
       " ('как', 1750),\n",
       " ('с', 1682),\n",
       " ('весь', 1513),\n",
       " ('ты', 1493),\n",
       " ('что', 1217),\n",
       " ('мой', 1133),\n",
       " ('а', 989),\n",
       " ('быть', 926),\n",
       " ('мы', 898),\n",
       " ('за', 791),\n",
       " ('о', 697),\n",
       " ('он', 652),\n",
       " ('так', 650),\n",
       " ('по', 616),\n",
       " ('твой', 603),\n",
       " ('тот', 572),\n",
       " ('вы', 561),\n",
       " ('рука', 548),\n",
       " ('к', 534),\n",
       " ('у', 512),\n",
       " ('один', 512),\n",
       " ('от', 506),\n",
       " ('из', 491),\n",
       " ('да', 483),\n",
       " ('без', 427)]"
      ]
     },
     "execution_count": 7,
     "metadata": {},
     "output_type": "execute_result"
    }
   ],
   "source": [
    "ipm.most_common(30)"
   ]
  },
  {
   "cell_type": "code",
   "execution_count": 8,
   "metadata": {},
   "outputs": [],
   "source": [
    "for key in ipm:\n",
    "    ipm[key] = ((int(ipm[key]))/int(len(lemmas)))*1000000"
   ]
  },
  {
   "cell_type": "code",
   "execution_count": 9,
   "metadata": {},
   "outputs": [
    {
     "data": {
      "text/plain": [
       "[('в', 34539.46133457475),\n",
       " ('и', 33300.54587366066),\n",
       " ('не', 25243.841088443547),\n",
       " ('я', 17142.084831920467),\n",
       " ('на', 14634.219595888302),\n",
       " ('как', 13140.012464240393),\n",
       " ('с', 12629.429122772768),\n",
       " ('весь', 11360.479347654695),\n",
       " ('ты', 11210.307776634805),\n",
       " ('что', 9137.94009656032),\n",
       " ('мой', 8507.219498276781),\n",
       " ('а', 7425.984186933572),\n",
       " ('быть', 6952.943738220917),\n",
       " ('мы', 6742.703538793071),\n",
       " ('за', 5939.285633836658),\n",
       " ('о', 5233.479250043175),\n",
       " ('он', 4895.593215248422),\n",
       " ('так', 4880.576058146432),\n",
       " ('по', 4625.284387412619),\n",
       " ('твой', 4527.67286624969),\n",
       " ('тот', 4294.90693116886),\n",
       " ('вы', 4212.312567107921),\n",
       " ('рука', 4114.701045944992),\n",
       " ('к', 4009.5809462310685),\n",
       " ('у', 3844.39221810919),\n",
       " ('один', 3844.39221810919),\n",
       " ('от', 3799.3407468032224),\n",
       " ('из', 3686.712068538305),\n",
       " ('да', 3626.643440130349),\n",
       " ('без', 3206.1630412746563)]"
      ]
     },
     "execution_count": 9,
     "metadata": {},
     "output_type": "execute_result"
    }
   ],
   "source": [
    "ipm.most_common(30)"
   ]
  },
  {
   "cell_type": "code",
   "execution_count": 10,
   "metadata": {},
   "outputs": [],
   "source": [
    "from nltk.corpus import stopwords\n",
    "sw = stopwords.words('russian')\n",
    "filtered = [w for w in words if w not in sw]\n",
    "lemmas_2 = []\n",
    "for word in filtered:\n",
    "        lemmas_2.append(morph.parse(word)[0].normal_form)"
   ]
  },
  {
   "cell_type": "code",
   "execution_count": 11,
   "metadata": {},
   "outputs": [
    {
     "data": {
      "text/plain": [
       "[('весь', 624),\n",
       " ('твой', 603),\n",
       " ('рука', 548),\n",
       " ('мой', 519),\n",
       " ('ты', 422),\n",
       " ('один', 401),\n",
       " ('глаз', 340),\n",
       " ('тот', 318),\n",
       " ('свой', 317),\n",
       " ('ночь', 314),\n",
       " ('наш', 313),\n",
       " ('сердце', 295),\n",
       " ('это', 279),\n",
       " ('день', 277),\n",
       " ('знать', 268),\n",
       " ('мы', 253),\n",
       " ('бог', 252),\n",
       " ('дом', 245),\n",
       " ('спать', 228),\n",
       " ('час', 227),\n",
       " ('сон', 216),\n",
       " ('любовь', 208),\n",
       " ('последний', 204),\n",
       " ('быть', 204),\n",
       " ('грудь', 201),\n",
       " ('каждый', 198),\n",
       " ('два', 196),\n",
       " ('друг', 195),\n",
       " ('мир', 191),\n",
       " ('чёрный', 190)]"
      ]
     },
     "execution_count": 11,
     "metadata": {},
     "output_type": "execute_result"
    }
   ],
   "source": [
    "ipm_2 = Counter(lemmas_2)\n",
    "ipm_2.most_common(30)"
   ]
  },
  {
   "cell_type": "code",
   "execution_count": 12,
   "metadata": {},
   "outputs": [],
   "source": [
    "for key in ipm_2:\n",
    "    ipm_2[key] = ((int(ipm_2[key]))/int(len(lemmas_2)))*1000000"
   ]
  },
  {
   "cell_type": "code",
   "execution_count": 13,
   "metadata": {},
   "outputs": [
    {
     "data": {
      "text/plain": [
       "[('весь', 6952.336386122068),\n",
       " ('твой', 6718.363526973728),\n",
       " ('рука', 6105.577467299508),\n",
       " ('мой', 5782.472090380373),\n",
       " ('ты', 4701.740312409474),\n",
       " ('один', 4467.767453261136),\n",
       " ('глаз', 3788.1320052588185),\n",
       " ('тот', 3543.01758138913),\n",
       " ('свой', 3531.8760166677807),\n",
       " ('ночь', 3498.4513225037326),\n",
       " ('наш', 3487.309757782383),\n",
       " ('сердце', 3286.761592798093),\n",
       " ('это', 3108.496557256501),\n",
       " ('день', 3086.2134278138024),\n",
       " ('знать', 2985.939345321657),\n",
       " ('мы', 2818.815874501415),\n",
       " ('бог', 2807.6743097800654),\n",
       " ('дом', 2729.683356730619),\n",
       " ('спать', 2540.2767564676783),\n",
       " ('час', 2529.135191746329),\n",
       " ('сон', 2406.5779798114845),\n",
       " ('любовь', 2317.445462040689),\n",
       " ('последний', 2272.879203155291),\n",
       " ('быть', 2272.879203155291),\n",
       " ('грудь', 2239.454508991243),\n",
       " ('каждый', 2206.0298148271945),\n",
       " ('два', 2183.746685384496),\n",
       " ('друг', 2172.605120663146),\n",
       " ('мир', 2128.038861777748),\n",
       " ('чёрный', 2116.8972970563987)]"
      ]
     },
     "execution_count": 13,
     "metadata": {},
     "output_type": "execute_result"
    }
   ],
   "source": [
    "ipm_2.most_common(30)"
   ]
  },
  {
   "cell_type": "code",
   "execution_count": 14,
   "metadata": {},
   "outputs": [
    {
     "data": {
      "text/plain": [
       "[(('и', 'не'), 163),\n",
       " (('и', 'в'), 158),\n",
       " (('я', 'не'), 118),\n",
       " (('как', 'в'), 98),\n",
       " (('не', 'быть'), 95),\n",
       " (('я', 'в'), 90),\n",
       " (('с', 'ты'), 86),\n",
       " (('ты', 'не'), 78),\n",
       " (('в', 'ночь'), 77),\n",
       " (('и', 'весь'), 74),\n",
       " (('и', 'на'), 65),\n",
       " (('не', 'надо'), 64),\n",
       " (('в', 'небо'), 62),\n",
       " (('у', 'я'), 61),\n",
       " (('и', 'как'), 59),\n",
       " (('что', 'я'), 58),\n",
       " (('не', 'знать'), 57),\n",
       " (('ты', 'в'), 57),\n",
       " (('у', 'мы'), 55),\n",
       " (('я', 'и'), 55),\n",
       " (('ты', 'я'), 55),\n",
       " (('тот', 'же'), 55),\n",
       " (('что', 'в'), 53),\n",
       " (('а', 'я'), 53),\n",
       " (('то', 'что'), 52),\n",
       " (('в', 'грудь'), 51),\n",
       " (('в', 'тот'), 51),\n",
       " (('в', 'рука'), 51),\n",
       " (('на', 'весь'), 49),\n",
       " (('в', 'мир'), 49)]"
      ]
     },
     "execution_count": 14,
     "metadata": {},
     "output_type": "execute_result"
    }
   ],
   "source": [
    "from nltk import ngrams\n",
    "for_ngrams = []\n",
    "for word in lemmas:\n",
    "    for_ngrams.append(word)\n",
    "n = 2\n",
    "bigrams = ngrams(for_ngrams, n)\n",
    "\n",
    "Counter(bigrams).most_common(30)"
   ]
  },
  {
   "cell_type": "code",
   "execution_count": 15,
   "metadata": {},
   "outputs": [
    {
     "data": {
      "text/plain": [
       "[(('NOUN', 'NOUN'), 10934),\n",
       " (('ADJF', 'NOUN'), 9452),\n",
       " (('PREP', 'NOUN'), 9345),\n",
       " (('NOUN', 'ADJF'), 6792),\n",
       " (('NOUN', 'PREP'), 6035),\n",
       " (('NOUN', 'VERB'), 5905),\n",
       " (('NOUN', 'CONJ'), 5133),\n",
       " (('VERB', 'NOUN'), 4293),\n",
       " (('CONJ', 'NOUN'), 3561),\n",
       " (('PREP', 'ADJF'), 3082),\n",
       " (('VERB', 'PREP'), 2448),\n",
       " (('NOUN', 'PRCL'), 2294),\n",
       " (('NOUN', 'NPRO'), 2152),\n",
       " (('PRCL', 'VERB'), 2009),\n",
       " (('ADJF', 'ADJF'), 1975)]"
      ]
     },
     "execution_count": 15,
     "metadata": {},
     "output_type": "execute_result"
    }
   ],
   "source": [
    "from nltk import ngrams\n",
    "for_ngrams = []\n",
    "for word in words:\n",
    "    for_ngrams.append(morph.parse(word)[0].tag.POS)\n",
    "n = 2\n",
    "bigrams = ngrams(for_ngrams, n)\n",
    "\n",
    "Counter(bigrams).most_common(15)"
   ]
  },
  {
   "cell_type": "code",
   "execution_count": 16,
   "metadata": {},
   "outputs": [
    {
     "data": {
      "text/plain": [
       "[(('NOUN', 'PREP', 'NOUN'), 3804),\n",
       " (('NOUN', 'ADJF', 'NOUN'), 3147),\n",
       " (('NOUN', 'NOUN', 'NOUN'), 3002),\n",
       " (('PREP', 'NOUN', 'NOUN'), 2459),\n",
       " (('PREP', 'ADJF', 'NOUN'), 2149),\n",
       " (('ADJF', 'NOUN', 'NOUN'), 2139),\n",
       " (('NOUN', 'CONJ', 'NOUN'), 1885),\n",
       " (('NOUN', 'VERB', 'NOUN'), 1871),\n",
       " (('NOUN', 'NOUN', 'ADJF'), 1643),\n",
       " (('VERB', 'PREP', 'NOUN'), 1606)]"
      ]
     },
     "execution_count": 16,
     "metadata": {},
     "output_type": "execute_result"
    }
   ],
   "source": [
    "for_ngrams_2 = []\n",
    "for word in words:\n",
    "    for_ngrams_2.append(morph.parse(word)[0].tag.POS)\n",
    "n = 3\n",
    "trigrams = ngrams(for_ngrams, n)\n",
    "\n",
    "Counter(trigrams).most_common(10)"
   ]
  },
  {
   "cell_type": "code",
   "execution_count": 17,
   "metadata": {},
   "outputs": [],
   "source": [
    "import string\n",
    "with open('tsvetayeva.txt', 'r', encoding='utf-8') as f:\n",
    "    rhymes = f.readlines()\n",
    "Partof = []\n",
    "for line in rhymes:\n",
    "    line = line.translate(str.maketrans('','',string.punctuation))\n",
    "    ends = line.split()\n",
    "    Partof.append(ends)"
   ]
  },
  {
   "cell_type": "code",
   "execution_count": 18,
   "metadata": {},
   "outputs": [],
   "source": [
    "prt = []\n",
    "for line in Partof:\n",
    "    if line != []:\n",
    "        if line[-1].isalpha():\n",
    "            prt.append(morph.parse(line[-1])[0].tag.POS)"
   ]
  },
  {
   "cell_type": "code",
   "execution_count": 19,
   "metadata": {},
   "outputs": [
    {
     "data": {
      "text/plain": [
       "[('NOUN', 18062),\n",
       " ('VERB', 3911),\n",
       " ('ADJF', 3135),\n",
       " ('ADVB', 1148),\n",
       " ('ADJS', 946)]"
      ]
     },
     "execution_count": 19,
     "metadata": {},
     "output_type": "execute_result"
    }
   ],
   "source": [
    "Counter(prt).most_common(5)"
   ]
  },
  {
   "cell_type": "code",
   "execution_count": null,
   "metadata": {},
   "outputs": [],
   "source": []
  }
 ],
 "metadata": {
  "kernelspec": {
   "display_name": "Python 3",
   "language": "python",
   "name": "python3"
  },
  "language_info": {
   "codemirror_mode": {
    "name": "ipython",
    "version": 3
   },
   "file_extension": ".py",
   "mimetype": "text/x-python",
   "name": "python",
   "nbconvert_exporter": "python",
   "pygments_lexer": "ipython3",
   "version": "3.7.3"
  }
 },
 "nbformat": 4,
 "nbformat_minor": 2
}

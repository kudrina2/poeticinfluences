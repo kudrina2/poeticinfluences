{
 "cells": [
  {
   "cell_type": "code",
   "execution_count": 1,
   "metadata": {},
   "outputs": [],
   "source": [
    "import nltk\n",
    "from nltk.tokenize import word_tokenize\n",
    "from nltk.tokenize import sent_tokenize"
   ]
  },
  {
   "cell_type": "code",
   "execution_count": 2,
   "metadata": {},
   "outputs": [],
   "source": [
    "from pymorphy2 import MorphAnalyzer\n",
    "morph = MorphAnalyzer()"
   ]
  },
  {
   "cell_type": "code",
   "execution_count": 3,
   "metadata": {},
   "outputs": [],
   "source": [
    "with open('brodsky.txt', 'r', encoding='utf-8') as f:\n",
    "    text = f.read()"
   ]
  },
  {
   "cell_type": "code",
   "execution_count": 4,
   "metadata": {},
   "outputs": [],
   "source": [
    "words = [w.lower() for w in word_tokenize(text) if w.isalpha()]"
   ]
  },
  {
   "cell_type": "code",
   "execution_count": 5,
   "metadata": {},
   "outputs": [],
   "source": [
    "lemmas = []\n",
    "for word in words:\n",
    "        lemmas.append(morph.parse(word)[0].normal_form)"
   ]
  },
  {
   "cell_type": "code",
   "execution_count": 6,
   "metadata": {},
   "outputs": [],
   "source": [
    "from collections import Counter\n",
    "ipm = Counter(lemmas)"
   ]
  },
  {
   "cell_type": "code",
   "execution_count": 7,
   "metadata": {},
   "outputs": [
    {
     "data": {
      "text/plain": [
       "[('в', 7387),\n",
       " ('и', 6891),\n",
       " ('не', 3825),\n",
       " ('на', 2815),\n",
       " ('я', 2562),\n",
       " ('как', 2287),\n",
       " ('с', 2059),\n",
       " ('что', 2014),\n",
       " ('ты', 1618),\n",
       " ('он', 1602),\n",
       " ('весь', 1485),\n",
       " ('но', 1372),\n",
       " ('к', 1172),\n",
       " ('быть', 1070),\n",
       " ('мы', 1019),\n",
       " ('от', 1008),\n",
       " ('за', 1006),\n",
       " ('они', 1003),\n",
       " ('а', 970),\n",
       " ('по', 967),\n",
       " ('это', 874),\n",
       " ('о', 795),\n",
       " ('мой', 787),\n",
       " ('тот', 778),\n",
       " ('из', 761),\n",
       " ('то', 702),\n",
       " ('так', 677),\n",
       " ('она', 645),\n",
       " ('свой', 623),\n",
       " ('твой', 557)]"
      ]
     },
     "execution_count": 7,
     "metadata": {},
     "output_type": "execute_result"
    }
   ],
   "source": [
    "ipm.most_common(30)"
   ]
  },
  {
   "cell_type": "code",
   "execution_count": 8,
   "metadata": {},
   "outputs": [],
   "source": [
    "for key in ipm:\n",
    "    ipm[key] = ((int(ipm[key]))/int(len(lemmas)))*1000000"
   ]
  },
  {
   "cell_type": "code",
   "execution_count": 9,
   "metadata": {},
   "outputs": [
    {
     "data": {
      "text/plain": [
       "[('в', 40363.693985607424),\n",
       " ('и', 37653.47438132134),\n",
       " ('не', 20900.3830370852),\n",
       " ('на', 15381.589084809111),\n",
       " ('я', 13999.158520526089),\n",
       " ('как', 12496.516602827152),\n",
       " ('с', 11250.689849244034),\n",
       " ('что', 11004.802989984208),\n",
       " ('ты', 8840.99862849774),\n",
       " ('он', 8753.572189649802),\n",
       " ('весь', 8114.266355574255),\n",
       " ('но', 7496.8171312106915),\n",
       " ('к', 6403.986645611466),\n",
       " ('быть', 5846.643097955861),\n",
       " ('мы', 5567.971324128058),\n",
       " ('от', 5507.865647420101),\n",
       " ('за', 5496.937342564109),\n",
       " ('они', 5480.544885280119),\n",
       " ('а', 5300.227855156248),\n",
       " ('по', 5283.835397872259),\n",
       " ('это', 4775.669222068618),\n",
       " ('о', 4344.001180256924),\n",
       " ('мой', 4300.287960832956),\n",
       " ('тот', 4251.1105889809905),\n",
       " ('из', 4158.219997705056),\n",
       " ('то', 3835.835004453284),\n",
       " ('так', 3699.231193753381),\n",
       " ('она', 3524.378316057505),\n",
       " ('свой', 3404.1669626415896),\n",
       " ('твой', 3043.5329023938452)]"
      ]
     },
     "execution_count": 9,
     "metadata": {},
     "output_type": "execute_result"
    }
   ],
   "source": [
    "ipm.most_common(30)"
   ]
  },
  {
   "cell_type": "code",
   "execution_count": 10,
   "metadata": {},
   "outputs": [],
   "source": [
    "from nltk.corpus import stopwords\n",
    "sw = stopwords.words('russian')\n",
    "filtered = [w for w in words if w not in sw]\n",
    "lemmas_2 = []\n",
    "for word in filtered:\n",
    "        lemmas_2.append(morph.parse(word)[0].normal_form)"
   ]
  },
  {
   "cell_type": "code",
   "execution_count": 11,
   "metadata": {},
   "outputs": [
    {
     "data": {
      "text/plain": [
       "[('это', 716),\n",
       " ('твой', 557),\n",
       " ('свой', 511),\n",
       " ('жизнь', 482),\n",
       " ('один', 417),\n",
       " ('тот', 399),\n",
       " ('ты', 375),\n",
       " ('глаз', 370),\n",
       " ('мой', 360),\n",
       " ('день', 345),\n",
       " ('окно', 340),\n",
       " ('который', 339),\n",
       " ('свет', 337),\n",
       " ('время', 337),\n",
       " ('лицо', 318),\n",
       " ('человек', 299),\n",
       " ('весь', 296),\n",
       " ('любовь', 292),\n",
       " ('бог', 284),\n",
       " ('земля', 272),\n",
       " ('год', 270),\n",
       " ('рука', 260),\n",
       " ('видеть', 260),\n",
       " ('снег', 258),\n",
       " ('дом', 253),\n",
       " ('наш', 250),\n",
       " ('друг', 249),\n",
       " ('небо', 247),\n",
       " ('ночь', 247),\n",
       " ('смотреть', 245)]"
      ]
     },
     "execution_count": 11,
     "metadata": {},
     "output_type": "execute_result"
    }
   ],
   "source": [
    "ipm_2 = Counter(lemmas_2)\n",
    "ipm_2.most_common(30)"
   ]
  },
  {
   "cell_type": "code",
   "execution_count": 12,
   "metadata": {},
   "outputs": [],
   "source": [
    "for key in ipm_2:\n",
    "    ipm_2[key] = ((int(ipm_2[key]))/int(len(lemmas_2)))*1000000"
   ]
  },
  {
   "cell_type": "code",
   "execution_count": 13,
   "metadata": {},
   "outputs": [
    {
     "data": {
      "text/plain": [
       "[('это', 5975.031711062154),\n",
       " ('твой', 4648.174110421256),\n",
       " ('свой', 4264.303358034582),\n",
       " ('жизнь', 4022.2978837038527),\n",
       " ('один', 3479.871820548768),\n",
       " ('тот', 3329.661526136591),\n",
       " ('ты', 3129.381133587022),\n",
       " ('глаз', 3087.6560518058614),\n",
       " ('мой', 3004.205888243541),\n",
       " ('день', 2879.03064290006),\n",
       " ('окно', 2837.3055611188997),\n",
       " ('который', 2828.9605447626677),\n",
       " ('свет', 2812.2705120502033),\n",
       " ('время', 2812.2705120502033),\n",
       " ('лицо', 2653.7152012817946),\n",
       " ('человек', 2495.1598905133856),\n",
       " ('весь', 2470.124841444689),\n",
       " ('любовь', 2436.744776019761),\n",
       " ('бог', 2369.9846451699045),\n",
       " ('земля', 2269.84444889512),\n",
       " ('год', 2253.154416182656),\n",
       " ('рука', 2169.704252620335),\n",
       " ('видеть', 2169.704252620335),\n",
       " ('снег', 2153.014219907871),\n",
       " ('дом', 2111.289138126711),\n",
       " ('наш', 2086.2540890580144),\n",
       " ('друг', 2077.909072701783),\n",
       " ('небо', 2061.2190399893184),\n",
       " ('ночь', 2061.2190399893184),\n",
       " ('смотреть', 2044.5290072768541)]"
      ]
     },
     "execution_count": 13,
     "metadata": {},
     "output_type": "execute_result"
    }
   ],
   "source": [
    "ipm_2.most_common(30)"
   ]
  },
  {
   "cell_type": "code",
   "execution_count": 14,
   "metadata": {},
   "outputs": [
    {
     "data": {
      "text/plain": [
       "[(('и', 'в'), 266),\n",
       " (('я', 'не'), 177),\n",
       " (('не', 'быть'), 144),\n",
       " (('и', 'не'), 142),\n",
       " (('и', 'я'), 131),\n",
       " (('то', 'что'), 126),\n",
       " (('как', 'будто'), 125),\n",
       " (('в', 'тот'), 121),\n",
       " (('тот', 'что'), 116),\n",
       " (('тот', 'же'), 108),\n",
       " (('в', 'это'), 99),\n",
       " (('и', 'весь'), 96),\n",
       " (('я', 'в'), 94),\n",
       " (('в', 'окно'), 93),\n",
       " (('в', 'тьма'), 90),\n",
       " (('что', 'в'), 87),\n",
       " (('как', 'в'), 87),\n",
       " (('потому', 'что'), 85),\n",
       " (('ты', 'не'), 85),\n",
       " (('что', 'ты'), 84),\n",
       " (('мочь', 'быть'), 82),\n",
       " (('тот', 'кто'), 82),\n",
       " (('и', 'вот'), 78),\n",
       " (('он', 'не'), 76),\n",
       " (('и', 'на'), 76),\n",
       " (('не', 'в'), 75),\n",
       " (('в', 'она'), 75),\n",
       " (('в', 'этот'), 72),\n",
       " (('весь', 'это'), 71),\n",
       " (('на', 'свет'), 69)]"
      ]
     },
     "execution_count": 14,
     "metadata": {},
     "output_type": "execute_result"
    }
   ],
   "source": [
    "from nltk import ngrams\n",
    "for_ngrams = []\n",
    "for word in lemmas:\n",
    "    for_ngrams.append(word)\n",
    "n = 2\n",
    "bigrams = ngrams(for_ngrams, n)\n",
    "\n",
    "Counter(bigrams).most_common(30)"
   ]
  },
  {
   "cell_type": "code",
   "execution_count": 15,
   "metadata": {},
   "outputs": [
    {
     "data": {
      "text/plain": [
       "[(('NOUN', 'NOUN'), 14272),\n",
       " (('PREP', 'NOUN'), 14235),\n",
       " (('ADJF', 'NOUN'), 10569),\n",
       " (('NOUN', 'CONJ'), 8888),\n",
       " (('NOUN', 'PREP'), 8752),\n",
       " (('NOUN', 'VERB'), 7624),\n",
       " (('NOUN', 'ADJF'), 5939),\n",
       " (('VERB', 'NOUN'), 5358),\n",
       " (('CONJ', 'NOUN'), 5205),\n",
       " (('VERB', 'PREP'), 4130),\n",
       " (('PREP', 'ADJF'), 4010),\n",
       " (('NOUN', 'ADVB'), 3295),\n",
       " (('NPRO', 'VERB'), 2986),\n",
       " (('NOUN', 'NPRO'), 2625),\n",
       " (('NOUN', 'PRCL'), 2543)]"
      ]
     },
     "execution_count": 15,
     "metadata": {},
     "output_type": "execute_result"
    }
   ],
   "source": [
    "from nltk import ngrams\n",
    "for_ngrams = []\n",
    "for word in words:\n",
    "    for_ngrams.append(morph.parse(word)[0].tag.POS)\n",
    "n = 2\n",
    "bigrams = ngrams(for_ngrams, n)\n",
    "\n",
    "Counter(bigrams).most_common(15)"
   ]
  },
  {
   "cell_type": "code",
   "execution_count": 16,
   "metadata": {},
   "outputs": [
    {
     "data": {
      "text/plain": [
       "[(('NOUN', 'PREP', 'NOUN'), 5722),\n",
       " (('NOUN', 'NOUN', 'NOUN'), 3832),\n",
       " (('PREP', 'NOUN', 'NOUN'), 3718),\n",
       " (('NOUN', 'CONJ', 'NOUN'), 3051),\n",
       " (('NOUN', 'ADJF', 'NOUN'), 2992),\n",
       " (('PREP', 'ADJF', 'NOUN'), 2912),\n",
       " (('VERB', 'PREP', 'NOUN'), 2879),\n",
       " (('ADJF', 'NOUN', 'NOUN'), 2181),\n",
       " (('NOUN', 'VERB', 'NOUN'), 2111),\n",
       " (('PREP', 'NOUN', 'CONJ'), 2079)]"
      ]
     },
     "execution_count": 16,
     "metadata": {},
     "output_type": "execute_result"
    }
   ],
   "source": [
    "for_ngrams_2 = []\n",
    "for word in words:\n",
    "    for_ngrams_2.append(morph.parse(word)[0].tag.POS)\n",
    "n = 3\n",
    "trigrams = ngrams(for_ngrams, n)\n",
    "\n",
    "Counter(trigrams).most_common(10)"
   ]
  },
  {
   "cell_type": "code",
   "execution_count": 17,
   "metadata": {},
   "outputs": [],
   "source": [
    "import string\n",
    "with open('brodsky.txt', 'r', encoding='utf-8') as f:\n",
    "    rhymes = f.readlines()\n",
    "Partof = []\n",
    "for line in rhymes:\n",
    "    line = line.translate(str.maketrans('','',string.punctuation))\n",
    "    ends = line.split()\n",
    "    Partof.append(ends)"
   ]
  },
  {
   "cell_type": "code",
   "execution_count": 18,
   "metadata": {},
   "outputs": [],
   "source": [
    "prt = []\n",
    "for line in Partof:\n",
    "    if line != []:\n",
    "        if line[-1].isalpha():\n",
    "            prt.append(morph.parse(line[-1])[0].tag.POS)"
   ]
  },
  {
   "cell_type": "code",
   "execution_count": 19,
   "metadata": {},
   "outputs": [
    {
     "data": {
      "text/plain": [
       "[('NOUN', 22518),\n",
       " ('VERB', 3445),\n",
       " ('ADVB', 2160),\n",
       " ('ADJF', 2075),\n",
       " ('NPRO', 1101)]"
      ]
     },
     "execution_count": 19,
     "metadata": {},
     "output_type": "execute_result"
    }
   ],
   "source": [
    "Counter(prt).most_common(5)"
   ]
  },
  {
   "cell_type": "code",
   "execution_count": null,
   "metadata": {},
   "outputs": [],
   "source": []
  }
 ],
 "metadata": {
  "kernelspec": {
   "display_name": "Python 3",
   "language": "python",
   "name": "python3"
  },
  "language_info": {
   "codemirror_mode": {
    "name": "ipython",
    "version": 3
   },
   "file_extension": ".py",
   "mimetype": "text/x-python",
   "name": "python",
   "nbconvert_exporter": "python",
   "pygments_lexer": "ipython3",
   "version": "3.7.3"
  }
 },
 "nbformat": 4,
 "nbformat_minor": 2
}

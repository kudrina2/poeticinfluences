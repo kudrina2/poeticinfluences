{
 "cells": [
  {
   "cell_type": "code",
   "execution_count": 10,
   "metadata": {},
   "outputs": [],
   "source": [
    "import os"
   ]
  },
  {
   "cell_type": "code",
   "execution_count": 17,
   "metadata": {},
   "outputs": [],
   "source": [
    "outfile = open('insert_file_name_here', 'w', encoding='utf-8')\n",
    "path = \"C:/Users/User/insert_needed_folder(s)_here\"\n",
    "files = os.listdir(path)\n",
    "for file in files:\n",
    "    with open(path+'/'+file, 'r', encoding='utf-8') as f:\n",
    "        text = f.read()\n",
    "    outfile.write(str(text)+'\\n')\n",
    "    \n",
    "outfile.close()"
   ]
  },
  {
   "cell_type": "markdown",
   "metadata": {},
   "source": [
    "Коротенький код для загрузки корпуса в один текстовый файл (так удобнее работать)"
   ]
  }
 ],
 "metadata": {},
 "nbformat": 4,
 "nbformat_minor": 2
}

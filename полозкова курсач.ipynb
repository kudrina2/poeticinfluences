{
 "cells": [
  {
   "cell_type": "code",
   "execution_count": 1,
   "metadata": {},
   "outputs": [],
   "source": [
    "import nltk\n",
    "from nltk.tokenize import word_tokenize\n",
    "from nltk.tokenize import sent_tokenize"
   ]
  },
  {
   "cell_type": "code",
   "execution_count": 2,
   "metadata": {},
   "outputs": [],
   "source": [
    "from pymorphy2 import MorphAnalyzer\n",
    "morph = MorphAnalyzer()"
   ]
  },
  {
   "cell_type": "code",
   "execution_count": 3,
   "metadata": {},
   "outputs": [],
   "source": [
    "with open('complex.txt', 'r', encoding='utf-8') as f:\n",
    "    text = f.read()"
   ]
  },
  {
   "cell_type": "code",
   "execution_count": 4,
   "metadata": {},
   "outputs": [],
   "source": [
    "words = [w.lower() for w in word_tokenize(text) if w.isalpha()]"
   ]
  },
  {
   "cell_type": "code",
   "execution_count": 5,
   "metadata": {},
   "outputs": [],
   "source": [
    "lemmas = []\n",
    "for word in words:\n",
    "        lemmas.append(morph.parse(word)[0].normal_form)"
   ]
  },
  {
   "cell_type": "code",
   "execution_count": 6,
   "metadata": {},
   "outputs": [],
   "source": [
    "from collections import Counter\n",
    "ipm = Counter(lemmas)"
   ]
  },
  {
   "cell_type": "code",
   "execution_count": 10,
   "metadata": {
    "collapsed": true
   },
   "outputs": [
    {
     "data": {
      "text/plain": [
       "[('и', 1364),\n",
       " ('в', 915),\n",
       " ('я', 761),\n",
       " ('не', 735),\n",
       " ('ты', 600),\n",
       " ('как', 518),\n",
       " ('на', 386),\n",
       " ('он', 369),\n",
       " ('что', 366),\n",
       " ('весь', 359),\n",
       " ('с', 337),\n",
       " ('а', 285),\n",
       " ('быть', 259),\n",
       " ('мы', 232),\n",
       " ('так', 194),\n",
       " ('она', 187),\n",
       " ('у', 183),\n",
       " ('но', 154),\n",
       " ('мой', 154),\n",
       " ('по', 151),\n",
       " ('это', 145),\n",
       " ('тот', 142),\n",
       " ('они', 132),\n",
       " ('из', 123),\n",
       " ('за', 123),\n",
       " ('же', 122),\n",
       " ('вот', 120),\n",
       " ('ни', 119),\n",
       " ('к', 117),\n",
       " ('себя', 114)]"
      ]
     },
     "execution_count": 10,
     "metadata": {},
     "output_type": "execute_result"
    }
   ],
   "source": [
    "ipm.most_common(30)"
   ]
  },
  {
   "cell_type": "code",
   "execution_count": 11,
   "metadata": {},
   "outputs": [],
   "source": [
    "for key in ipm:\n",
    "    ipm[key] = ((int(ipm[key]))/int(len(lemmas)))*1000000"
   ]
  },
  {
   "cell_type": "code",
   "execution_count": 12,
   "metadata": {},
   "outputs": [
    {
     "data": {
      "text/plain": [
       "[('и', 44418.392601276544),\n",
       " ('в', 29796.79562329035),\n",
       " ('я', 24781.815813468802),\n",
       " ('не', 23935.130910511918),\n",
       " ('ты', 19538.882375928097),\n",
       " ('как', 16868.568451217925),\n",
       " ('на', 12570.014328513744),\n",
       " ('он', 12016.41266119578),\n",
       " ('что', 11918.718249316138),\n",
       " ('весь', 11690.764621596978),\n",
       " ('с', 10974.338934479614),\n",
       " ('а', 9280.969128565845),\n",
       " ('быть', 8434.284225608963),\n",
       " ('мы', 7555.034518692197),\n",
       " ('так', 6317.571968216752),\n",
       " ('она', 6089.61834049759),\n",
       " ('у', 5959.359124658069),\n",
       " ('но', 5014.979809821545),\n",
       " ('мой', 5014.979809821545),\n",
       " ('по', 4917.285397941905),\n",
       " ('это', 4721.896574182623),\n",
       " ('тот', 4624.202162302982),\n",
       " ('они', 4298.554122704181),\n",
       " ('из', 4005.4708870652594),\n",
       " ('за', 4005.4708870652594),\n",
       " ('же', 3972.9060831053794),\n",
       " ('вот', 3907.776475185619),\n",
       " ('ни', 3875.2116712257393),\n",
       " ('к', 3810.082063305979),\n",
       " ('себя', 3712.3876514263384)]"
      ]
     },
     "execution_count": 12,
     "metadata": {},
     "output_type": "execute_result"
    }
   ],
   "source": [
    "ipm.most_common(30)"
   ]
  },
  {
   "cell_type": "code",
   "execution_count": 13,
   "metadata": {},
   "outputs": [],
   "source": [
    "from nltk.corpus import stopwords\n",
    "sw = stopwords.words('russian')\n",
    "filtered = [w for w in words if w not in sw]\n",
    "lemmas_2 = []\n",
    "for word in filtered:\n",
    "        lemmas_2.append(morph.parse(word)[0].normal_form)"
   ]
  },
  {
   "cell_type": "code",
   "execution_count": 15,
   "metadata": {
    "collapsed": true
   },
   "outputs": [
    {
     "data": {
      "text/plain": [
       "[('ты', 134),\n",
       " ('это', 123),\n",
       " ('твой', 106),\n",
       " ('свой', 87),\n",
       " ('один', 77),\n",
       " ('тот', 70),\n",
       " ('такой', 68),\n",
       " ('весь', 65),\n",
       " ('мой', 62),\n",
       " ('быть', 60),\n",
       " ('словно', 56),\n",
       " ('пока', 55),\n",
       " ('глаз', 53),\n",
       " ('бог', 53),\n",
       " ('стать', 53),\n",
       " ('говорить', 53),\n",
       " ('мама', 51),\n",
       " ('каждый', 50),\n",
       " ('рука', 46),\n",
       " ('жить', 45),\n",
       " ('думать', 43),\n",
       " ('любить', 43),\n",
       " ('мы', 43),\n",
       " ('день', 42),\n",
       " ('просто', 41),\n",
       " ('видеть', 40),\n",
       " ('знать', 40),\n",
       " ('хотеть', 39),\n",
       " ('смотреть', 38),\n",
       " ('мальчик', 37)]"
      ]
     },
     "execution_count": 15,
     "metadata": {},
     "output_type": "execute_result"
    }
   ],
   "source": [
    "ipm_2 = Counter(lemmas_2)\n",
    "ipm_2.most_common(30)"
   ]
  },
  {
   "cell_type": "code",
   "execution_count": 16,
   "metadata": {},
   "outputs": [],
   "source": [
    "for key in ipm_2:\n",
    "    ipm_2[key] = ((int(ipm_2[key]))/int(len(lemmas_2)))*1000000"
   ]
  },
  {
   "cell_type": "code",
   "execution_count": 17,
   "metadata": {},
   "outputs": [
    {
     "data": {
      "text/plain": [
       "[('ты', 7212.44415738199),\n",
       " ('это', 6620.377845955111),\n",
       " ('твой', 5705.366273749933),\n",
       " ('свой', 4682.706281285322),\n",
       " ('один', 4144.464179988158),\n",
       " ('тот', 3767.694709080144),\n",
       " ('такой', 3660.046288820711),\n",
       " ('весь', 3498.5736584315623),\n",
       " ('мой', 3337.1010280424134),\n",
       " ('быть', 3229.452607782981),\n",
       " ('словно', 3014.155767264115),\n",
       " ('пока', 2960.331557134399),\n",
       " ('глаз', 2852.6831368749663),\n",
       " ('бог', 2852.6831368749663),\n",
       " ('стать', 2852.6831368749663),\n",
       " ('говорить', 2852.6831368749663),\n",
       " ('мама', 2745.034716615534),\n",
       " ('каждый', 2691.210506485817),\n",
       " ('рука', 2475.913665966952),\n",
       " ('жить', 2422.0894558372356),\n",
       " ('думать', 2314.4410355778027),\n",
       " ('любить', 2314.4410355778027),\n",
       " ('мы', 2314.4410355778027),\n",
       " ('день', 2260.6168254480867),\n",
       " ('просто', 2206.79261531837),\n",
       " ('видеть', 2152.968405188654),\n",
       " ('знать', 2152.968405188654),\n",
       " ('хотеть', 2099.1441950589374),\n",
       " ('смотреть', 2045.319984929221),\n",
       " ('мальчик', 1991.4957747995047)]"
      ]
     },
     "execution_count": 17,
     "metadata": {},
     "output_type": "execute_result"
    }
   ],
   "source": [
    "ipm_2.most_common(30)"
   ]
  },
  {
   "cell_type": "code",
   "execution_count": 18,
   "metadata": {},
   "outputs": [
    {
     "data": {
      "text/plain": [
       "[(('я', 'не'), 54),\n",
       " (('и', 'не'), 41),\n",
       " (('что', 'ты'), 35),\n",
       " (('ты', 'не'), 33),\n",
       " (('а', 'ты'), 31),\n",
       " (('как', 'в'), 30),\n",
       " (('и', 'я'), 30),\n",
       " (('тот', 'кто'), 27),\n",
       " (('как', 'будто'), 27),\n",
       " (('и', 'весь'), 26),\n",
       " (('у', 'я'), 26),\n",
       " (('я', 'в'), 24),\n",
       " (('с', 'ты'), 24),\n",
       " (('у', 'ты'), 24),\n",
       " (('в', 'тот'), 22),\n",
       " (('и', 'быть'), 20),\n",
       " (('потому', 'что'), 20),\n",
       " (('ты', 'же'), 19),\n",
       " (('и', 'в'), 19),\n",
       " (('что', 'я'), 19),\n",
       " (('тот', 'что'), 18),\n",
       " (('я', 'быть'), 18),\n",
       " (('я', 'ты'), 18),\n",
       " (('он', 'не'), 18),\n",
       " (('я', 'и'), 18),\n",
       " (('ты', 'весь'), 17),\n",
       " (('как', 'ты'), 17),\n",
       " (('не', 'быть'), 17),\n",
       " (('а', 'я'), 17),\n",
       " (('с', 'он'), 17)]"
      ]
     },
     "execution_count": 18,
     "metadata": {},
     "output_type": "execute_result"
    }
   ],
   "source": [
    "from nltk import ngrams\n",
    "for_ngrams = []\n",
    "for word in lemmas:\n",
    "    for_ngrams.append(word)\n",
    "n = 2\n",
    "bigrams = ngrams(for_ngrams, n)\n",
    "\n",
    "Counter(bigrams).most_common(30)"
   ]
  },
  {
   "cell_type": "code",
   "execution_count": 19,
   "metadata": {},
   "outputs": [
    {
     "data": {
      "text/plain": [
       "[(('PREP', 'NOUN'), 1777),\n",
       " (('ADJF', 'NOUN'), 1606),\n",
       " (('NOUN', 'CONJ'), 1524),\n",
       " (('NOUN', 'NOUN'), 1412),\n",
       " (('NOUN', 'VERB'), 1116),\n",
       " (('NOUN', 'PREP'), 954),\n",
       " (('CONJ', 'NOUN'), 851),\n",
       " (('VERB', 'NOUN'), 837),\n",
       " (('NOUN', 'ADJF'), 809),\n",
       " (('NPRO', 'VERB'), 780),\n",
       " (('VERB', 'PREP'), 708),\n",
       " (('VERB', 'CONJ'), 591),\n",
       " (('NOUN', 'NPRO'), 588),\n",
       " (('PRCL', 'VERB'), 582),\n",
       " (('PREP', 'ADJF'), 558)]"
      ]
     },
     "execution_count": 19,
     "metadata": {},
     "output_type": "execute_result"
    }
   ],
   "source": [
    "from nltk import ngrams\n",
    "for_ngrams = []\n",
    "for word in words:\n",
    "    for_ngrams.append(morph.parse(word)[0].tag.POS)\n",
    "n = 2\n",
    "bigrams = ngrams(for_ngrams, n)\n",
    "\n",
    "Counter(bigrams).most_common(15)"
   ]
  },
  {
   "cell_type": "code",
   "execution_count": 20,
   "metadata": {},
   "outputs": [
    {
     "data": {
      "text/plain": [
       "[(('NOUN', 'PREP', 'NOUN'), 548),\n",
       " (('VERB', 'PREP', 'NOUN'), 431),\n",
       " (('NOUN', 'CONJ', 'NOUN'), 422),\n",
       " (('PREP', 'NOUN', 'CONJ'), 363),\n",
       " (('PREP', 'ADJF', 'NOUN'), 362),\n",
       " (('NOUN', 'ADJF', 'NOUN'), 352),\n",
       " (('PREP', 'NOUN', 'NOUN'), 332),\n",
       " (('ADJF', 'NOUN', 'CONJ'), 319),\n",
       " (('NOUN', 'NOUN', 'NOUN'), 311),\n",
       " (('NOUN', 'VERB', 'NOUN'), 295)]"
      ]
     },
     "execution_count": 20,
     "metadata": {},
     "output_type": "execute_result"
    }
   ],
   "source": [
    "for_ngrams_2 = []\n",
    "for word in words:\n",
    "    for_ngrams_2.append(morph.parse(word)[0].tag.POS)\n",
    "n = 3\n",
    "trigrams = ngrams(for_ngrams, n)\n",
    "\n",
    "Counter(trigrams).most_common(10)"
   ]
  },
  {
   "cell_type": "code",
   "execution_count": 24,
   "metadata": {},
   "outputs": [],
   "source": [
    "import string\n",
    "with open('complex.txt', 'r', encoding='utf-8') as f:\n",
    "    rhymes = f.readlines()\n",
    "Partof = []\n",
    "for line in rhymes:\n",
    "    line = line.translate(str.maketrans('','',string.punctuation))\n",
    "    ends = line.split()\n",
    "    Partof.append(ends)"
   ]
  },
  {
   "cell_type": "code",
   "execution_count": 25,
   "metadata": {},
   "outputs": [],
   "source": [
    "prt = []\n",
    "for line in Partof:\n",
    "    if line != []:\n",
    "        if line[-1].isalpha():\n",
    "            prt.append(morph.parse(line[-1])[0].tag.POS)"
   ]
  },
  {
   "cell_type": "code",
   "execution_count": 26,
   "metadata": {},
   "outputs": [
    {
     "data": {
      "text/plain": [
       "[('NOUN', 2415), ('VERB', 537), ('ADJF', 351), ('ADVB', 267), ('NPRO', 172)]"
      ]
     },
     "execution_count": 26,
     "metadata": {},
     "output_type": "execute_result"
    }
   ],
   "source": [
    "Counter(prt).most_common(5)"
   ]
  },
  {
   "cell_type": "code",
   "execution_count": null,
   "metadata": {},
   "outputs": [],
   "source": []
  }
 ],
 "metadata": {
  "kernelspec": {
   "display_name": "Python 3",
   "language": "python",
   "name": "python3"
  },
  "language_info": {
   "codemirror_mode": {
    "name": "ipython",
    "version": 3
   },
   "file_extension": ".py",
   "mimetype": "text/x-python",
   "name": "python",
   "nbconvert_exporter": "python",
   "pygments_lexer": "ipython3",
   "version": "3.7.3"
  }
 },
 "nbformat": 4,
 "nbformat_minor": 2
}
